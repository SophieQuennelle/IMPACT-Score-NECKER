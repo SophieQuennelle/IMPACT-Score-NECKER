{
 "cells": [
  {
   "cell_type": "markdown",
   "metadata": {},
   "source": [
    "## To calculate the IMPACT score and to refit a logistic regression on our cohort to get the IMPACT-score-Necker."
   ]
  },
  {
   "cell_type": "markdown",
   "metadata": {},
   "source": [
    "We automatically extracted the data of 3081 patients hospitalised in Necker hospital for a heart catheterization between 2010 and 2016."
   ]
  },
  {
   "cell_type": "code",
   "execution_count": 1,
   "metadata": {},
   "outputs": [],
   "source": [
    "import pandas as pd\n",
    "import numpy as np\n",
    "import datetime as dt\n",
    "import matplotlib\n",
    "import matplotlib.pyplot as plt"
   ]
  },
  {
   "cell_type": "code",
   "execution_count": 2,
   "metadata": {},
   "outputs": [],
   "source": [
    "import warnings\n",
    "warnings.filterwarnings(\"ignore\")"
   ]
  },
  {
   "cell_type": "markdown",
   "metadata": {},
   "source": [
    "## Procedure date, patient weight, and hemodynamic"
   ]
  },
  {
   "cell_type": "code",
   "execution_count": 3,
   "metadata": {},
   "outputs": [],
   "source": [
    "df_KTTR = pd.read_csv('KTTR', sep = \";\", encoding = \"utf-8\", parse_dates=['Date document'])\n",
    "df_KTTR['RVP'] = df_KTTR['RVP'].str.replace(',', '.', regex=True)\n",
    "df_KTTR['QPQS'] = df_KTTR['QPQS'].str.replace(',', '.', regex=True)\n",
    "df_KTTR['POIDS'] = df_KTTR['POIDS'].str.replace(',', '.', regex=True)\n",
    "df_KTTR[['RVP', 'QPQS', 'POIDS']] = df_KTTR[['RVP', 'QPQS', 'POIDS']].astype(float)\n",
    "\n",
    "# Remove aberante weight\n",
    "df_KTTR.loc[(df_KTTR['POIDS'] < 0), 'POIDS'] = np.nan\n",
    "df_KTTR.loc[(df_KTTR['POIDS'] > 200), 'POIDS'] = np.nan\n",
    "\n",
    "# Remove procedures after 2016 and before 2010\n",
    "df_KTTR = df_KTTR[(df_KTTR[\"Date document\"].dt.year < 2017) & (df_KTTR[\"Date document\"].dt.year > 2009)]"
   ]
  },
  {
   "cell_type": "code",
   "execution_count": 4,
   "metadata": {},
   "outputs": [],
   "source": [
    "#df_KTTR['IPP'].groupby(df_KTTR[\"Date document\"].dt.year).count().plot(kind=\"bar\", legend=None)\n",
    "#plt.show()\n",
    "#print(df_KTTR.info())\n",
    "#print('_________________________________________________')\n",
    "#print(df_KTTR.nunique())"
   ]
  },
  {
   "cell_type": "markdown",
   "metadata": {},
   "source": [
    "## Type of procedure"
   ]
  },
  {
   "cell_type": "code",
   "execution_count": 5,
   "metadata": {},
   "outputs": [],
   "source": [
    "df_tdk = pd.read_csv('TDK.csv', sep = \";\", encoding = \"utf-8\", parse_dates=['Date document'])"
   ]
  },
  {
   "cell_type": "code",
   "execution_count": 6,
   "metadata": {},
   "outputs": [],
   "source": [
    "#print(df_tdk.info())\n",
    "#print('_________________________________________________')\n",
    "#print(df_tdk.nunique())"
   ]
  },
  {
   "cell_type": "code",
   "execution_count": 7,
   "metadata": {},
   "outputs": [],
   "source": [
    "# Keep only first REGEX\n",
    "df_tdk.columns = ['IPP', 'DDDoc', 'TDK']\n",
    "df_tdk['TDK1'], df_tdk['TDK2'] = df_tdk['TDK'].str.split(';', 1).str\n",
    "df_tdk = df_tdk[['IPP', 'DDDoc', 'TDK1']]\n",
    "\n",
    "# Remove spaces at the end a string\n",
    "df_tdk.TDK1 = df_tdk.TDK1.str.rstrip()"
   ]
  },
  {
   "cell_type": "code",
   "execution_count": 8,
   "metadata": {},
   "outputs": [],
   "source": [
    "# Merge KTTR & TDK on IPP (left-join on KTTR)\n",
    "df = pd.merge(df_KTTR,\n",
    "               df_tdk,\n",
    "               left_on='IPP',\n",
    "               right_on='IPP',\n",
    "               how='left')\n",
    "\n",
    "# Set date document and DDDoc as dates\n",
    "df['DDDoc'] = pd.to_datetime(df['DDDoc'])\n",
    "df['Date document'] = pd.to_datetime(df['Date document'])\n",
    "\n",
    "#df.head(5)"
   ]
  },
  {
   "cell_type": "code",
   "execution_count": 9,
   "metadata": {},
   "outputs": [],
   "source": [
    "# Create time laps column = time between KT and TDK1\n",
    "df['time_laps'] = abs(df['Date document'] - df['DDDoc'])\n",
    "\n",
    "# Select the closest TDK1 to Date document \n",
    "df = df.sort_values(['time_laps']).drop_duplicates(subset='IPP')\n",
    "\n",
    "# Select TDK1 that are within 20 days of the DDKT\n",
    "df['time_laps'] = df['time_laps'] <= pd.Timedelta(20,'D')\n",
    "\n",
    "# Replace TDK1 by NaN if time_laps > 20 jours\n",
    "df.loc[df['time_laps'] == False, 'TDK1'] = np.nan\n",
    "\n",
    "# Merge KTTR & df(TDK) on IPP (left-join on KTTR)\n",
    "df_KTTR_TDK = pd.merge(df_KTTR,\n",
    "               df[['IPP', 'TDK1']],\n",
    "               left_on='IPP',\n",
    "               right_on='IPP',\n",
    "               how='left')\n",
    "\n",
    "# Keep the first procedure for each patient.\n",
    "df_KTTR_TDK = df_KTTR_TDK.sort_values(['Date document']).drop_duplicates(subset='IPP')\n",
    "\n",
    "#print(df['time_laps'].describe())\n",
    "#print(df['IPP'].nunique())\n",
    "#print(df.head(5))\n",
    "#print(df.info())\n",
    "#df_KTTR_TDK['IPP'].groupby(df_KTTR_TDK[\"Date document\"].dt.year).count().plot(kind=\"bar\", legend=None)\n",
    "#plt.show()"
   ]
  },
  {
   "cell_type": "markdown",
   "metadata": {},
   "source": [
    "## Medical background"
   ]
  },
  {
   "cell_type": "code",
   "execution_count": 10,
   "metadata": {},
   "outputs": [],
   "source": [
    "# df_ATCD\n",
    "df_ATCD = pd.read_csv('ATCD.csv', sep = \";\", encoding = \"utf-8\")\n",
    "df_ATCD=df_ATCD[['IPP', 'Insuffisance rénale', 'Univentriculaire', 'Traitement influent sur la coagulation']]\n",
    "\n",
    "# Grouby IPP (num patient) and if the variable is True once, it makes it always True\n",
    "df_ATCD = df_ATCD.fillna(False)\n",
    "df_ATCD = df_ATCD.groupby(by='IPP', as_index=False).any()\n",
    "df_ATCD = df_ATCD[['IPP', 'Insuffisance rénale', 'Univentriculaire', 'Traitement influent sur la coagulation']]"
   ]
  },
  {
   "cell_type": "code",
   "execution_count": 11,
   "metadata": {},
   "outputs": [],
   "source": [
    "# Merge df_KTTR_TDK & df_ATCD\n",
    "df_KTTR_TDK_ATCD = pd.merge(df_KTTR_TDK,\n",
    "                           df_ATCD,\n",
    "                           left_on='IPP',\n",
    "                           right_on='IPP',\n",
    "                           how='left')\n",
    "\n",
    "#print(df_KTTR_TDK_ATCD.head(5))\n",
    "#print(df_KTTR_TDK_ATCD.info())"
   ]
  },
  {
   "cell_type": "markdown",
   "metadata": {},
   "source": [
    "## Biology Results"
   ]
  },
  {
   "cell_type": "raw",
   "metadata": {},
   "source": [
    "Add to df_KTTR_TDK_ATCD biology results extracts by 'EXPORT DATA' tools in DRWH.\n",
    "Map IPP/DRWH num with NotebookTipsMapperIPP to get plaquettes.csv, tp.csv, fbg.csv and tca.csv. "
   ]
  },
  {
   "cell_type": "code",
   "execution_count": 12,
   "metadata": {},
   "outputs": [],
   "source": [
    "# Platelet\n",
    "plq = pd.read_csv('plaquettes.csv', sep=';', encoding='utf-8', parse_dates=['DDBio'])\n",
    "plq.loc[(plq['PLQ'] < 10), 'PLQ'] = np.nan\n",
    "plq.loc[(plq['PLQ'] > 800), 'PLQ'] = np.nan\n",
    "\n",
    "df_kta_PLQ = pd.merge(df_KTTR_TDK_ATCD,\n",
    "                   plq[['IPP', 'DDBio', 'PLQ']],\n",
    "                   how='left',\n",
    "                     on='IPP')\n",
    "\n",
    "df_kta_PLQ['time_laps'] = (df_kta_PLQ['Date document'] - df_kta_PLQ['DDBio']\n",
    "                          ).replace(np.nan, pd.Timedelta(0,'D'), regex=True)\n",
    "\n",
    "df_kta_PLQ.loc[(df_kta_PLQ['time_laps'] >= pd.Timedelta(0,'D')) & (df_kta_PLQ['time_laps'] <= pd.Timedelta(30,'D'))]\n",
    "\n",
    "\n",
    "df_kta_PLQ = df_kta_PLQ.sort_values(['time_laps']).drop_duplicates(subset='IPP')\n",
    "\n",
    "df_kta_PLQ = df_kta_PLQ[['IPP', 'Date document', 'sexe', 'POIDS', 'PTDVG', 'RVP', 'QPQS', 'PAPM',\n",
    "       'PAPS', 'SVO2', 'SAT', 'TDK1', 'Insuffisance rénale',\n",
    "       'Univentriculaire', 'Traitement influent sur la coagulation', 'PLQ']]\n",
    "\n",
    "#print(df_kta_PLQ.describe())\n",
    "#print(df_kta_PLQ.info())\n",
    "#print(df_kta_PLQ.head(n=5))\n",
    "#print('Nombre de patients', df_kta_PLQ['IPP'].nunique())"
   ]
  },
  {
   "cell_type": "code",
   "execution_count": 13,
   "metadata": {},
   "outputs": [],
   "source": [
    "# Fibrinogen\n",
    "fbg = pd.read_csv('fbg.csv', sep=';', encoding='utf-8', parse_dates=['DDBio'])\n",
    "\n",
    "fbg = fbg.rename(columns={'FBG1':'FBG'})\n",
    "\n",
    "df_kta_PLQ_FBG = pd.merge(df_kta_PLQ,\n",
    "                  fbg[['IPP', 'DDBio', 'FBG']],\n",
    "                   left_on='IPP',\n",
    "                   right_on='IPP',\n",
    "                   how='left')\n",
    "\n",
    "df_kta_PLQ_FBG['time_laps'] = (df_kta_PLQ_FBG['Date document'] - df_kta_PLQ_FBG['DDBio']\n",
    "                              ).replace(np.nan, pd.Timedelta(0,'D'), regex=True)\n",
    "\n",
    "df_kta_PLQ_FBG.loc[(df_kta_PLQ_FBG['time_laps'] >= pd.Timedelta(0,'D')) & (df_kta_PLQ_FBG['time_laps'] <= pd.Timedelta(30,'D'))]\n",
    "\n",
    "df_kta_PLQ_FBG = df_kta_PLQ_FBG.sort_values(['time_laps']).drop_duplicates(subset='IPP')\n",
    "\n",
    "df_kta_PLQ_FBG = df_kta_PLQ_FBG[['IPP', 'Date document', 'sexe', 'POIDS', 'PTDVG', 'RVP', 'QPQS', 'PAPM',\n",
    "       'PAPS', 'SVO2', 'SAT', 'TDK1', 'Insuffisance rénale',\n",
    "       'Univentriculaire', 'Traitement influent sur la coagulation', 'PLQ', 'FBG']]\n",
    "\n",
    "#print(df_kta_PLQ_FBG.describe())\n",
    "#print(df_kta_PLQ_FBG.info())\n",
    "#print(df_kta_PLQ_FBG.head(n=5))\n",
    "#print('Nombre de patients', df_kta_PLQ_FBG['IPP'].nunique())"
   ]
  },
  {
   "cell_type": "code",
   "execution_count": 14,
   "metadata": {},
   "outputs": [],
   "source": [
    "# TP\n",
    "\n",
    "tp = pd.read_csv('tp.csv', sep=';', encoding='utf-8', parse_dates=['DDBio'])\n",
    "\n",
    "\n",
    "df_kta_PLQ_FBG_TP = pd.merge(df_kta_PLQ_FBG,\n",
    "                  tp[['IPP', 'DDBio', 'TP']],\n",
    "                   left_on='IPP',\n",
    "                   right_on='IPP',\n",
    "                   how='left')\n",
    "\n",
    "df_kta_PLQ_FBG_TP['time_laps'] = (df_kta_PLQ_FBG_TP['Date document'] - df_kta_PLQ_FBG_TP['DDBio']\n",
    "                              ).replace(np.nan, pd.Timedelta(0,'D'), regex=True)\n",
    "\n",
    "df_kta_PLQ_FBG_TP.loc[(df_kta_PLQ_FBG_TP['time_laps'] >= pd.Timedelta(0,'D')) & (df_kta_PLQ_FBG_TP['time_laps'] <= pd.Timedelta(30,'D'))]\n",
    "\n",
    "df_kta_PLQ_FBG_TP = df_kta_PLQ_FBG_TP.sort_values(['time_laps']).drop_duplicates(subset='IPP')\n",
    "\n",
    "\n",
    "df_kta_PLQ_FBG_TP = df_kta_PLQ_FBG_TP[['IPP', 'Date document', 'sexe', 'POIDS', 'PTDVG', 'RVP', 'QPQS', 'PAPM',\n",
    "       'PAPS', 'SVO2', 'SAT', 'TDK1', 'Insuffisance rénale',\n",
    "       'Univentriculaire', 'Traitement influent sur la coagulation', 'PLQ', 'FBG', 'TP']]\n",
    "\n",
    "#print(df_kta_PLQ_FBG_TP.describe())\n",
    "#print(df_kta_PLQ_FBG_TP.info())\n",
    "#print(df_kta_PLQ_FBG_TP.head(n=5))\n",
    "#print('Nombre de patients', df_kta_PLQ_FBG_TP['IPP'].nunique())"
   ]
  },
  {
   "cell_type": "code",
   "execution_count": 15,
   "metadata": {},
   "outputs": [],
   "source": [
    "# TCA\n",
    "\n",
    "tca = pd.read_csv('tca.csv', sep=';', encoding='utf-8', parse_dates=['DDBio'])\n",
    "\n",
    "\n",
    "df_kta_PLQ_FBG_TP_TCA = pd.merge(df_kta_PLQ_FBG_TP,\n",
    "                  tca[['IPP', 'DDBio', 'TCA']],\n",
    "                   left_on='IPP',\n",
    "                   right_on='IPP',\n",
    "                   how='left')\n",
    "\n",
    "df_kta_PLQ_FBG_TP_TCA['time_laps'] = (df_kta_PLQ_FBG_TP_TCA['Date document'] - df_kta_PLQ_FBG_TP_TCA['DDBio']\n",
    "                              ).replace(np.nan, pd.Timedelta(0,'D'), regex=True)\n",
    "\n",
    "df_kta_PLQ_FBG_TP_TCA.loc[(df_kta_PLQ_FBG_TP_TCA['time_laps'] >= pd.Timedelta(0,'D')) & (df_kta_PLQ_FBG_TP_TCA['time_laps'] <= pd.Timedelta(30,'D'))]\n",
    "\n",
    "df_kta_PLQ_FBG_TP_TCA = df_kta_PLQ_FBG_TP_TCA.sort_values(['time_laps']).drop_duplicates(subset='IPP')\n",
    "\n",
    "\n",
    "df_kta_PLQ_FBG_TP_TCA = df_kta_PLQ_FBG_TP_TCA[['IPP', 'Date document', 'sexe', 'POIDS', 'PTDVG', 'RVP', 'QPQS', 'PAPM',\n",
    "       'PAPS', 'SVO2', 'SAT', 'TDK1', 'Insuffisance rénale',\n",
    "       'Univentriculaire', 'Traitement influent sur la coagulation', 'PLQ', 'FBG', 'TP', 'TCA']]\n",
    "\n",
    "#print(df_kta_PLQ_FBG_TP_TCA.describe())\n",
    "#print(df_kta_PLQ_FBG_TP_TCA.info())\n",
    "#print(df_kta_PLQ_FBG_TP_TCA.head(n=5))\n",
    "#print('Nombre de patients', df_kta_PLQ_FBG_TP_TCA['IPP'].nunique())"
   ]
  },
  {
   "cell_type": "code",
   "execution_count": 16,
   "metadata": {},
   "outputs": [],
   "source": [
    "df_ktas = df_kta_PLQ_FBG_TP_TCA\n",
    "\n",
    "#print(df_ktas.head(5))\n",
    "#print(df_ktas['TDK1'].unique())"
   ]
  },
  {
   "cell_type": "markdown",
   "metadata": {},
   "source": [
    "## Age on the day of the catheterization"
   ]
  },
  {
   "cell_type": "code",
   "execution_count": 17,
   "metadata": {},
   "outputs": [],
   "source": [
    "ddn = pd.read_csv('DDN.csv', sep = \";\", encoding = \"utf-8\", parse_dates=['BIRTH_DATE'], dayfirst=True)\n",
    "ddn.rename(columns={'BIRTH_DATE':'DDN', 'DWH ID':'IPP'}, inplace=True)\n",
    "\n",
    "# remove future birth dates (abberante values)\n",
    "ddn = ddn.loc[~(ddn.DDN > dt.datetime.today())]\n",
    "\n",
    "# Merge with df_ktas\n",
    "df_ktasn = pd.merge(\n",
    "    df_ktas,\n",
    "    ddn,\n",
    "    on='IPP',\n",
    "    how='left')\n",
    "\n",
    "# Calculate the age on the day of the catheterization\n",
    "\n",
    "df_ktasn['KT_AGE'] = df_ktasn['Date document'] - df_ktasn['DDN']\n",
    "\n",
    "# remove aberrant ages \n",
    "df_ktasn = df_ktasn.loc[~(df_ktasn.KT_AGE < dt.timedelta(days=0))]\n",
    "\n",
    "#print(df_ktasn.info())"
   ]
  },
  {
   "cell_type": "raw",
   "metadata": {},
   "source": [
    "3081-2895 = 186 abberante birth dates/age on the day of the cath (errors? foetus?).\n",
    "==> 186 patients were excluded."
   ]
  },
  {
   "cell_type": "markdown",
   "metadata": {},
   "source": [
    "## Adverse events"
   ]
  },
  {
   "cell_type": "code",
   "execution_count": 18,
   "metadata": {},
   "outputs": [],
   "source": [
    "## Matching the complication table with the correspondence table\n",
    "\n",
    "# correspondence table\n",
    "tbl_cf = pd.read_csv('table_de_correspondance.csv', \n",
    "                     sep=\";\", \n",
    "                     encoding=\"utf-8\", \n",
    "                    index_col=0)\n",
    "\n",
    "# print(tbl_cf)\n",
    "# should be 17712 rows long"
   ]
  },
  {
   "cell_type": "code",
   "execution_count": 19,
   "metadata": {},
   "outputs": [],
   "source": [
    "# Result table (unlab_classifier_exemples_positifs_verifie is the table where \n",
    "# I checked every positive complications)\n",
    "df_RESULT = pd.read_csv('unlab_classifier_exemple_positifs_verifies.csv', \n",
    "                        sep=\";\", encoding=\"utf-8\")\n",
    "df_RESULT['index'] = df_RESULT['index'].str.extract('(\\d+)')"
   ]
  },
  {
   "cell_type": "code",
   "execution_count": 20,
   "metadata": {},
   "outputs": [],
   "source": [
    "# add train, test, dev result\n",
    "\n",
    "df_train = pd.read_csv('train.csv', \n",
    "                        sep=\";\", encoding=\"utf-8\",\n",
    "                      usecols=['index', 'label'])\n",
    "df_train['index'] = df_train['index'].str.extract('(\\d+)')\n",
    "df_train.rename(columns={'label': 'result'}, inplace=True)\n",
    "\n",
    "df_test = pd.read_csv('test.csv', \n",
    "                        sep=\";\", encoding=\"utf-8\",\n",
    "                      usecols=['index', 'label'])\n",
    "df_test['index'] = df_test['index'].str.extract('(\\d+)')\n",
    "df_test.rename(columns={'label': 'result'}, inplace=True)\n",
    "\n",
    "df_dev = pd.read_csv('dev.csv', \n",
    "                        sep=\";\", encoding=\"utf-8\",\n",
    "                      usecols=['index', 'label'])\n",
    "df_dev['index'] = df_dev['index'].str.extract('(\\d+)')\n",
    "df_dev.rename(columns={'label': 'result'}, inplace=True)"
   ]
  },
  {
   "cell_type": "code",
   "execution_count": 21,
   "metadata": {},
   "outputs": [],
   "source": [
    "df_RESULT = pd.concat([df_RESULT, df_train, df_test, df_dev])\n",
    "\n",
    "df_RESULT.to_csv('result_test.csv', sep=';', encoding='utf-8' )\n",
    "\n",
    "#print(df_RESULT['index'].nunique())"
   ]
  },
  {
   "cell_type": "code",
   "execution_count": 22,
   "metadata": {},
   "outputs": [],
   "source": [
    "# set index as int64\n",
    "\n",
    "df_RESULT = df_RESULT.astype({'index': 'int64'})\n",
    "\n",
    "df_RESULT = df_RESULT.set_index('index')\n",
    "\n",
    "# merge\n",
    "\n",
    "df_merge = tbl_cf.merge(df_RESULT, left_index=True, right_index=True)\n",
    "\n",
    "#print(df_merge)\n",
    "#print('merge', df_merge['result'].value_counts())\n",
    "#print('result', df_RESULT['result'].value_counts())"
   ]
  },
  {
   "cell_type": "code",
   "execution_count": 23,
   "metadata": {},
   "outputs": [],
   "source": [
    "df_merge.to_csv('merge_test.csv', sep=';', encoding='utf-8' )"
   ]
  },
  {
   "cell_type": "code",
   "execution_count": 24,
   "metadata": {},
   "outputs": [],
   "source": [
    "df_RESULT = df_merge[['IPP', 'result', 'DDK']].dropna()\n",
    "df_RESULT.loc[:,'result'] = df_RESULT['result'].astype(int)\n",
    "df_RESULT = df_RESULT[['IPP', 'result']]\n",
    "df_RESULT = df_RESULT.groupby('IPP').sum()\n",
    "#print(df_RESULT['result'].value_counts())\n",
    "\n",
    "df_ktasnr = pd.merge(df_ktasn,\n",
    "                     df_RESULT,\n",
    "                     left_on='IPP',\n",
    "                     right_on='IPP',\n",
    "                     how='left')\n",
    "\n",
    "\n",
    "#print(df_ktasnr['IPP'].nunique())\n",
    "#print(df_ktasnr['result'].value_counts())\n",
    "#print(df_ktasnr.groupby(df_ktasnr[\"Date document\"].dt.year).count().plot(kind=\"bar\", legend=None))\n",
    "#print()"
   ]
  },
  {
   "cell_type": "code",
   "execution_count": 25,
   "metadata": {},
   "outputs": [],
   "source": [
    "df_ktasn.to_csv('df_ktasn.csv', sep=';', encoding='utf-8')"
   ]
  },
  {
   "cell_type": "code",
   "execution_count": 26,
   "metadata": {},
   "outputs": [],
   "source": [
    "# ktasnr is the final result of our automatically extracted protocol\n",
    "# ktasnr.csv will be used to describe missing data, and patient characteristics\n",
    "\n",
    "df_ktasnr['result'][df_ktasnr['result'] > 0] = 1\n",
    "df_ktasnr.to_csv('ktasnr.csv', sep=';', encoding='utf-8')\n",
    "df_ktasnr['result'].value_counts()\n",
    "\n",
    "# to save datas before replace missing values: \n",
    "data_extract = df_ktasnr"
   ]
  },
  {
   "cell_type": "markdown",
   "metadata": {},
   "source": [
    "# Replace missing data with normal values"
   ]
  },
  {
   "cell_type": "code",
   "execution_count": 27,
   "metadata": {},
   "outputs": [],
   "source": [
    "# we replace missing weights by a weight that will not influence the score (7 kg)\n",
    "\n",
    "df_ktasnr.loc[:,'POIDS'] = df_ktasnr['POIDS'].fillna(7)"
   ]
  },
  {
   "cell_type": "code",
   "execution_count": 28,
   "metadata": {},
   "outputs": [],
   "source": [
    "# same thing for the cath type: Cathétérisme diagnostique does not influence the score\n",
    "\n",
    "df_ktasnr.loc[:,'TDK1'] = df_ktasnr['TDK1'].fillna('Cathétérisme diagnostique')"
   ]
  },
  {
   "cell_type": "code",
   "execution_count": 29,
   "metadata": {},
   "outputs": [],
   "source": [
    "# if there is no mention in the text, \n",
    "# we considered that the patient does not have the antecedent\n",
    "\n",
    "df_ktasnr = df_ktasnr.fillna({'Insuffisance rénale':False, \n",
    "                              'Univentriculaire' :False, \n",
    "                              'Traitement influent sur la coagulation' : False})"
   ]
  },
  {
   "cell_type": "code",
   "execution_count": 30,
   "metadata": {},
   "outputs": [],
   "source": [
    "# Missing biology data are replace with normal values\n",
    "\n",
    "df_ktasnr.loc[:,'PLQ'] = df_ktasnr['PLQ'].fillna(250)\n",
    "df_ktasnr.loc[:,'TCA'] = df_ktasnr['TCA'].fillna(1)\n",
    "df_ktasnr.loc[:,'TP'] = df_ktasnr['TP'].fillna(80)\n",
    "df_ktasnr.loc[:,'FBG'] = df_ktasnr['FBG'].fillna(2)"
   ]
  },
  {
   "cell_type": "code",
   "execution_count": 31,
   "metadata": {},
   "outputs": [
    {
     "name": "stdout",
     "output_type": "stream",
     "text": [
      "0.0    2706\n",
      "1.0     189\n",
      "Name: result, dtype: int64\n"
     ]
    }
   ],
   "source": [
    "# if there is no mention in the text, \n",
    "# we considered that the patient did not undergone MAE\n",
    "\n",
    "df_ktasnr.loc[:,'result'] = df_ktasnr['result'].fillna(0)\n",
    "\n",
    "print(df_ktasnr['result'].value_counts())"
   ]
  },
  {
   "cell_type": "code",
   "execution_count": 32,
   "metadata": {},
   "outputs": [],
   "source": [
    "# we replace missing age by 365 days because that will not influence the score\n",
    "\n",
    "df_ktasnr.loc[:,'KT_AGE'] = df_ktasnr['KT_AGE'].fillna(pd.Timedelta(value=366, unit='d'))"
   ]
  },
  {
   "cell_type": "markdown",
   "metadata": {},
   "source": [
    "# Score"
   ]
  },
  {
   "cell_type": "code",
   "execution_count": 33,
   "metadata": {},
   "outputs": [
    {
     "data": {
      "text/plain": [
       "0       1\n",
       "1       1\n",
       "2       1\n",
       "3       1\n",
       "4       1\n",
       "       ..\n",
       "2890    1\n",
       "2891    1\n",
       "2892    1\n",
       "2893    1\n",
       "2894    1\n",
       "Name: QPQS, Length: 2895, dtype: int64"
      ]
     },
     "execution_count": 33,
     "metadata": {},
     "output_type": "execute_result"
    }
   ],
   "source": [
    "# Preprocessing\n",
    "\n",
    "df_CRF = df_ktasnr[['IPP', 'Date document', 'DDN', 'KT_AGE', 'POIDS', 'TDK1', 'SAT', 'PAPS', 'PAPM', \n",
    "                    'PTDVG', 'QPQS', 'RVP', 'Traitement influent sur la coagulation',\n",
    "                    'TP', 'TCA', 'FBG', 'PLQ', 'Insuffisance rénale', 'Univentriculaire', \n",
    "                    'result']]\n",
    "\n",
    "df_CRF = df_CRF.rename(columns={'TDK1': 'TDK',\n",
    "                                'Date document': 'DDK',\n",
    "                                'PTDVG': 'PTDVG',\n",
    "                                'Traitement influent sur la coagulation': 'TAC',\n",
    "                                'Insuffisance rénale': 'IR',\n",
    "                                'Univentriculaire': 'VU',\n",
    "                                'result': 'COMPLICATION'})\n",
    "\n",
    "#print(df_CRF['TDK'].nunique())\n",
    "\n",
    "# object -> float\n",
    "\n",
    "df_CRF.loc[:,'POIDS'] = df_CRF['POIDS'].apply(lambda x: float(x.replace(',', '.')) if type(x)==str else x)\n",
    "df_CRF['POIDS'].astype(int)\n",
    "\n",
    "df_CRF.loc[:,'QPQS'] = df_CRF['QPQS'].fillna(1)\n",
    "df_CRF.loc[:,'QPQS'] = df_CRF['QPQS'].apply(lambda x: float(x.replace(',', '.')) if type(x)==str else x)\n",
    "df_CRF['QPQS'].astype(int)"
   ]
  },
  {
   "cell_type": "code",
   "execution_count": 34,
   "metadata": {},
   "outputs": [],
   "source": [
    "# Risk categories\n",
    "\n",
    "df_CRF['RISK_CAT1'] = (df_CRF['TDK'] == \"Biopsie myocardique pour suivi post transplantation\")\n",
    "\n",
    "df_CRF['RISK_CAT2'] = (\n",
    "    (df_CRF['TDK'] == \"Fermeture de CIA / PFO\") | \n",
    "    (df_CRF['TDK'] == \"Fermeture de fenestration\") | \n",
    "    (df_CRF['TDK'] == \"Fermeture de fistule coronaire\") | \n",
    "    (df_CRF['TDK'] == \"Dilatation au ballon ou stenting d’un conduit, chenal, tube sauf Sano\") | \n",
    "    (df_CRF['TDK'] == \"Redilatation d’un stent aortique\") | \n",
    "    (df_CRF['TDK'] == \"Drainage péricardique programmé\") |\n",
    "    ((df_CRF['TDK'] == \"Fermeture de canal artériel\") & (df_CRF['POIDS'] > 6)) |\n",
    "    ((df_CRF['TDK'] == \"Cathétérisme diagnostique\") & (df_CRF['KT_AGE'] > pd.Timedelta(value=365, unit='d'))) |\n",
    "    ((df_CRF['TDK'] == \"Valvuloplastie pulmonaire\") & (df_CRF['KT_AGE'] > pd.Timedelta(value=30, unit='d')))\n",
    "    \n",
    "                  )\n",
    "\n",
    "df_CRF['RISK_CAT3'] = (\n",
    "    (df_CRF['TDK'] == \"Fermeture ou occlusion d’une artère ou d’une veine systémique ou d’une fistule ou malformation AV\") | \n",
    "    (df_CRF['TDK'] == \"Occlusion d’une fuite paraprothétique\") | \n",
    "    (df_CRF['TDK'] == \"Dilatation et/ou stenting de coarctation\") | \n",
    "    (df_CRF['TDK'] == \"Dilatation et/ou stenting d’une artère pulmonaire (prox ou distale)\") | \n",
    "    (df_CRF['TDK'] == \"Dilatation et/ou stenting d’une fenestration\") | \n",
    "    (df_CRF['TDK'] == \"Redilatation d’un stent aortique\") |\n",
    "    (df_CRF['TDK'] == \"Melody\") | \n",
    "    (df_CRF['TDK'] == \"Biopsie myocardique en dehors du suivi post transplantation\") \n",
    "\n",
    ")\n",
    "\n",
    "df_CRF['RISK_CAT4'] = (\n",
    "    (df_CRF['TDK'] == \"Fermeture d’un shunt systemico-pulmonaire\") | \n",
    "    (df_CRF['TDK'] == \"Fermeture de connection veineuse ou artérielle avec l’arbre pulmonaire (collatérales)\") | \n",
    "    (df_CRF['TDK'] == \"Dilatation au ballon +/- stenting d’une CIA post atrial switch\") | \n",
    "    (df_CRF['TDK'] == \"Dilatation au ballon +/- stenting d’une veine\") | \n",
    "    (df_CRF['TDK'] == \"Valvuloplastie/valvulotomie mitrale\") |\n",
    "    (df_CRF['TDK'] == \"Extraction percutanée de corps étrangers intravasculaires\") |\n",
    "    ((df_CRF['TDK'] == \"Cathétérisme diagnostique\") & (df_CRF['KT_AGE'] <= pd.Timedelta(value=365, unit='d')) & (df_CRF['KT_AGE'] > pd.Timedelta(value=30, unit='d'))) |\n",
    "    ((df_CRF['TDK'] == \"Fermeture de canal artériel\") & (df_CRF['POIDS'] <= 6) & (df_CRF['POIDS'] > 3)) |\n",
    "    ((df_CRF['TDK'] == \"Valvuloplastie aortique\") & (df_CRF['KT_AGE'] > pd.Timedelta(value=30, unit='d')))\n",
    ")\n",
    "    \n",
    "df_CRF['RISK_CAT5'] = (\n",
    "    (df_CRF['TDK'] == \"Valvuloplastie aortique\") & (df_CRF['KT_AGE'] <= pd.Timedelta(value=30, unit='d')) |\n",
    "    (df_CRF['TDK'] == \"Valvuloplastie pulmonaire\") & (df_CRF['KT_AGE'] <= pd.Timedelta(value=30, unit='d')) | \n",
    "    (df_CRF['TDK'] == \"Fermeture de CIV\") |\n",
    "    (df_CRF['TDK'] == \"Dilatation au ballon +/- stenting d’une CIA hors switch atrial\") |\n",
    "    (df_CRF['TDK'] == \"Dilatation au ballon et/ou stenting d’un tube de SANO\") |\n",
    "    (df_CRF['TDK'] == \"Dilatation au ballon et/ou stenting d’une veine pulmonaire\") |\n",
    "    (df_CRF['TDK'] == \"Dilatation au ballon et/ou stenting d’une artère systémique\") |\n",
    "    (df_CRF['TDK'] == \"Création d’un shunt systemico-pulmonaire avec ou sans stent\") |\n",
    "    (df_CRF['TDK'] == \"Stenting canal artériel\") |\n",
    "    (df_CRF['TDK'] == \"Rashkind\") |\n",
    "    (df_CRF['TDK'] == \"Perforation pulmonaire (APSO)\") |\n",
    "    ((df_CRF['TDK'] == \"Fermeture de canal artériel\") & (df_CRF['POIDS'] < 3))     \n",
    ")\n",
    "\n",
    "\n",
    "df_CRF['RISK_CAT6'] = (\n",
    "    ((df_CRF['TDK'] == \"Cathétérisme diagnostique\") & (df_CRF['KT_AGE'] <= pd.Timedelta(value=30, unit='d')))\n",
    "\n",
    ")"
   ]
  },
  {
   "cell_type": "code",
   "execution_count": 35,
   "metadata": {},
   "outputs": [],
   "source": [
    "# Hemodynamic Vulnerability Indicators\n",
    "\n",
    "df_CRF['VU_DESAT']=((df_CRF['SAT'] < 78) & (df_CRF['VU']==True))\n",
    "df_CRF['DESAT']=((df_CRF['SAT'] < 95) & (df_CRF['VU']==False))\n",
    "\n",
    "df_CRF['VU_PA']=((df_CRF['PAPM'] >= 17) & (df_CRF['VU'] == True))\n",
    "df_CRF['PAPS_ELEVEE']=((df_CRF['PAPS'] >= 45) & (df_CRF['VU']==False))\n",
    "\n",
    "df_CRF['PTDVG_ELEVEE']=(df_CRF['PTDVG'] >= 18)\n",
    "\n",
    "df_CRF['QPQS_ELEVE']=(df_CRF['QPQS'] >= 1.5)\n",
    "\n",
    "df_CRF['RVP_ELEVEE']=(df_CRF['RVP'] >= 3)\n",
    "\n",
    "df_HD = df_CRF[['VU_DESAT', 'VU_PA', 'DESAT', 'PAPS_ELEVEE', 'PTDVG_ELEVEE', 'QPQS_ELEVE', 'RVP_ELEVEE']]\n",
    "\n",
    "df_CRF['VUL_HD']=df_HD.sum(axis=1)"
   ]
  },
  {
   "cell_type": "code",
   "execution_count": 36,
   "metadata": {},
   "outputs": [],
   "source": [
    "df_CRF['VULN_AUTRE']=( (df_CRF['TCA'] > 1.18) | (df_CRF['TP'] < 70) | (df_CRF['FBG'] < 1.5) | (df_CRF['FBG'] > 3.5) | (df_CRF['VU'] == True) | (df_CRF['IR'] == True))\n",
    "\n",
    "df_CRF['COAG_DIS']=((df_CRF['TCA'] > 1.18) | (df_CRF['TP'] < 70) | (df_CRF['FBG'] < 1.5) | (df_CRF['FBG'] > 3.5))"
   ]
  },
  {
   "cell_type": "code",
   "execution_count": 37,
   "metadata": {},
   "outputs": [],
   "source": [
    "data = df_CRF[['IPP', 'DDK', 'RISK_CAT1', 'RISK_CAT2', 'RISK_CAT3', 'RISK_CAT4', 'RISK_CAT5', 'RISK_CAT6',\n",
    "               'VUL_HD', 'IR', 'VU', 'COAG_DIS', 'COMPLICATION']]\n",
    "\n",
    "# Booleans\n",
    "data['VUL_HD0'] = (data['VUL_HD'] == 0)\n",
    "data['VUL_HD1'] = (data['VUL_HD'] == 1)\n",
    "data['VUL_HD2'] = (data['VUL_HD'] == 2)\n",
    "data['VUL_HD3'] = (data['VUL_HD'] == 3)"
   ]
  },
  {
   "cell_type": "code",
   "execution_count": 38,
   "metadata": {},
   "outputs": [],
   "source": [
    "# To have a look\n",
    "\n",
    "data.to_csv('reduced_model_data.csv', sep=';', encoding='utf-8')"
   ]
  },
  {
   "cell_type": "code",
   "execution_count": 39,
   "metadata": {},
   "outputs": [],
   "source": [
    "# IMPACT reduced model\n",
    "\n",
    "data['RISK'] = (\n",
    "    data['RISK_CAT1']*1 +\n",
    "    data['RISK_CAT2']*1.88 + \n",
    "    data['RISK_CAT3']*3.89 +\n",
    "    data['RISK_CAT4']*3.87 +\n",
    "    data['RISK_CAT5']*8.91 +\n",
    "    data['RISK_CAT6']*12.80 +\n",
    "    data['VUL_HD0']*1 +\n",
    "    data['VUL_HD1']*1.21 +\n",
    "    data['VUL_HD2']*1.73 +\n",
    "    data['VUL_HD3']*2.45 +\n",
    "    data['COAG_DIS']*2.42 +\n",
    "    data['IR']*2.16 +\n",
    "    data['VU']* 1.23\n",
    ")"
   ]
  },
  {
   "cell_type": "markdown",
   "metadata": {},
   "source": [
    "# Sklearn"
   ]
  },
  {
   "cell_type": "markdown",
   "metadata": {},
   "source": [
    "LogReg and ROC curve"
   ]
  },
  {
   "cell_type": "code",
   "execution_count": 40,
   "metadata": {},
   "outputs": [],
   "source": [
    "import sklearn as sklearn\n",
    "from sklearn import metrics \n",
    "from sklearn.linear_model import LogisticRegression\n",
    "from sklearn.model_selection import train_test_split\n",
    "from sklearn.metrics import roc_curve, roc_auc_score"
   ]
  },
  {
   "cell_type": "code",
   "execution_count": 41,
   "metadata": {},
   "outputs": [],
   "source": [
    "# To transform COMPLICATION int in booleans\n",
    "\n",
    "data['COMPLICATION'][data['COMPLICATION'] > 0] = 1\n",
    "data['COMPLICATION'] = data['COMPLICATION'].astype('category')"
   ]
  },
  {
   "cell_type": "code",
   "execution_count": 42,
   "metadata": {},
   "outputs": [
    {
     "data": {
      "text/plain": [
       "CategoricalDtype(categories=[0.0, 1.0], ordered=False)"
      ]
     },
     "execution_count": 42,
     "metadata": {},
     "output_type": "execute_result"
    }
   ],
   "source": [
    "data['COMPLICATION'].dtype"
   ]
  },
  {
   "cell_type": "code",
   "execution_count": 43,
   "metadata": {},
   "outputs": [],
   "source": [
    "# Data\n",
    "\n",
    "df = data[[  'RISK_CAT1',\n",
    "             'RISK_CAT2',\n",
    "             'RISK_CAT3',\n",
    "             'RISK_CAT4',\n",
    "             'RISK_CAT5',\n",
    "             'RISK_CAT6',\n",
    "             'VUL_HD',\n",
    "             'IR',\n",
    "             'VU',\n",
    "             'COAG_DIS',\n",
    "             'COMPLICATION',\n",
    "             'VUL_HD0',\n",
    "             'VUL_HD1',\n",
    "             'VUL_HD2',\n",
    "             'VUL_HD3']]"
   ]
  },
  {
   "cell_type": "code",
   "execution_count": 44,
   "metadata": {},
   "outputs": [],
   "source": [
    "# x = explanatory variables, y = variable to predict\n",
    "\n",
    "x = df.drop('COMPLICATION',axis = 1)\n",
    "y = df.COMPLICATION"
   ]
  },
  {
   "cell_type": "code",
   "execution_count": 45,
   "metadata": {},
   "outputs": [],
   "source": [
    "# Split train and test sets\n",
    "x_train, x_test, y_train, y_test = train_test_split(x, y)"
   ]
  },
  {
   "cell_type": "code",
   "execution_count": 46,
   "metadata": {},
   "outputs": [
    {
     "data": {
      "text/plain": [
       "LogisticRegression(class_weight='balanced')"
      ]
     },
     "execution_count": 46,
     "metadata": {},
     "output_type": "execute_result"
    }
   ],
   "source": [
    "# Fit LogReg\n",
    "logreg = LogisticRegression(class_weight='balanced')\n",
    "\n",
    "# Fit the model with data\n",
    "logreg.fit(x_train,y_train)"
   ]
  },
  {
   "cell_type": "code",
   "execution_count": 47,
   "metadata": {},
   "outputs": [],
   "source": [
    "# Prediction: y_pred (to get accuracy and confusion matrix)\n",
    "y_pred=logreg.predict(x_test)\n",
    "\n",
    "# Probability: y_prob (to get AUROC)\n",
    "y_prob=logreg.predict_proba(x_test)\n",
    "\n",
    "df_y_prob = pd.DataFrame(y_prob, dtype='float')\n",
    "\n",
    "y_prob_1 = df_y_prob[[1]]"
   ]
  },
  {
   "cell_type": "code",
   "execution_count": 48,
   "metadata": {},
   "outputs": [
    {
     "name": "stdout",
     "output_type": "stream",
     "text": [
      "Accuracy: 70.71823204419888\n",
      "[[481 194]\n",
      " [ 18  31]]\n"
     ]
    }
   ],
   "source": [
    "# Accuracy\n",
    "accuracy = metrics.accuracy_score(y_test, y_pred)\n",
    "accuracy_percentage = 100 * accuracy\n",
    "print('Accuracy:', accuracy_percentage)\n",
    "\n",
    "from sklearn import metrics\n",
    "cnf_matrix = metrics.confusion_matrix(y_test, y_pred)\n",
    "print(cnf_matrix)"
   ]
  },
  {
   "cell_type": "code",
   "execution_count": 49,
   "metadata": {},
   "outputs": [
    {
     "data": {
      "image/png": "[encoded data removed]",
      "text/plain": [
       "<Figure size 432x288 with 1 Axes>"
      ]
     },
     "metadata": {
      "needs_background": "light"
     },
     "output_type": "display_data"
    }
   ],
   "source": [
    "# Plot the ROC curve of IMPACT-score-Necker\n",
    "\n",
    "sklearn.metrics.roc_curve(y_test, y_prob_1)\n",
    "r_auc = roc_auc_score(y_test, y_prob_1)\n",
    "fpr, tpr, _ = roc_curve(y_test, y_prob_1)\n",
    "\n",
    "plt.plot(fpr, tpr, linestyle='--', label='Necker score prediction (AUROC = %0.3f)' % r_auc)\n",
    "\n",
    "\n",
    "# Title\n",
    "plt.title('ROC Plot')\n",
    "# Axis labels\n",
    "plt.xlabel('False Positive Rate')\n",
    "plt.ylabel('True Positive Rate')\n",
    "# Show legend\n",
    "plt.legend() # \n",
    "# Show plot\n",
    "plt.show()"
   ]
  },
  {
   "cell_type": "code",
   "execution_count": 50,
   "metadata": {},
   "outputs": [
    {
     "data": {
      "image/png": "[encoded data removed]",
      "text/plain": [
       "<Figure size 432x288 with 1 Axes>"
      ]
     },
     "metadata": {
      "needs_background": "light"
     },
     "output_type": "display_data"
    }
   ],
   "source": [
    "# Plot the ROC curve of IMPACT-score\n",
    "df_impact = data[['IPP', 'DDK', 'COMPLICATION', 'RISK']]\n",
    "\n",
    "df_impact.loc[:,'RISK'] = df_impact['RISK']\n",
    "\n",
    "impact_true = df_impact['COMPLICATION'].to_list()\n",
    "impact_true = list(map(bool,impact_true))\n",
    "impact_score = df_impact['RISK'].to_list()\n",
    "\n",
    "sklearn.metrics.roc_auc_score(impact_true, impact_score)\n",
    "sklearn.metrics.roc_curve(impact_true, impact_score)\n",
    "impact_r_auc = roc_auc_score(impact_true, impact_score)\n",
    "impact_r_fpr, impact_r_tpr, _ = roc_curve(impact_true, impact_score)\n",
    "\n",
    "impact_r_auc\n",
    "\n",
    "plt.plot(impact_r_fpr, impact_r_tpr, linestyle='--',\n",
    "         label='Impact score prediction (AUROC = %0.3f)' % impact_r_auc)\n",
    "\n",
    "\n",
    "# Title\n",
    "plt.title('ROC Plot')\n",
    "# Axis labels\n",
    "plt.xlabel('False Positive Rate')\n",
    "plt.ylabel('True Positive Rate')\n",
    "# Show legend\n",
    "plt.legend() # \n",
    "# Show plot\n",
    "plt.show()"
   ]
  },
  {
   "cell_type": "code",
   "execution_count": 51,
   "metadata": {},
   "outputs": [
    {
     "data": {
      "text/plain": [
       "<matplotlib.legend.Legend at 0x7ff21982fc40>"
      ]
     },
     "execution_count": 51,
     "metadata": {},
     "output_type": "execute_result"
    },
    {
     "data": {
      "image/png": "[encoded data removed]",
      "text/plain": [
       "<Figure size 432x288 with 1 Axes>"
      ]
     },
     "metadata": {
      "needs_background": "light"
     },
     "output_type": "display_data"
    }
   ],
   "source": [
    "# Compare the ROV curves\n",
    "plt.plot(impact_r_fpr, impact_r_tpr, linestyle='--',\n",
    "         label='Impact score prediction (AUROC = %0.3f)' % impact_r_auc)\n",
    "\n",
    "plt.plot(fpr, tpr, linestyle='-.', \n",
    "         label='Necker score prediction (AUROC = %0.3f)' % r_auc)\n",
    "\n",
    "\n",
    "plt.title(\"Receiver Operating Characteristic curves\")\n",
    "plt.xlabel('False Positive Rate')\n",
    "plt.ylabel('True Positive Rate')\n",
    "# Show legend\n",
    "plt.legend() # \n",
    "\n",
    "# To save the fig as pdf file\n",
    "#plt.savefig(\"roc.pdf\", bbox_inches='tight')"
   ]
  },
  {
   "cell_type": "markdown",
   "metadata": {},
   "source": [
    "Sklearn Impact-score-Necker coefficients"
   ]
  },
  {
   "cell_type": "code",
   "execution_count": 52,
   "metadata": {},
   "outputs": [],
   "source": [
    "# Target y and explanatory variables x\n",
    "y = data[\"COMPLICATION\"].cat.codes\n",
    "\n",
    "x = data[['RISK_CAT1', 'RISK_CAT2', 'RISK_CAT3', 'RISK_CAT4', 'RISK_CAT5', \n",
    "           'RISK_CAT6',\n",
    "           'VUL_HD',\n",
    "           'IR',\n",
    "           'VU',\n",
    "           'COAG_DIS',\n",
    "           'VUL_HD0',\n",
    "           'VUL_HD1',\n",
    "           'VUL_HD2',\n",
    "           'VUL_HD3']]"
   ]
  },
  {
   "cell_type": "code",
   "execution_count": 53,
   "metadata": {},
   "outputs": [
    {
     "name": "stdout",
     "output_type": "stream",
     "text": [
      "constante     0.274112\n",
      "RISK_CAT1     2.086484\n",
      "RISK_CAT2     0.406665\n",
      "RISK_CAT3     0.824177\n",
      "RISK_CAT4     0.672299\n",
      "RISK_CAT5     0.488892\n",
      "RISK_CAT6     0.721451\n",
      "VUL_HD        0.047037\n",
      "IR            1.277840\n",
      "VU            1.892491\n",
      "COAG_DIS      2.108832\n",
      "VUL_HD0       0.353842\n",
      "VUL_HD1      12.758396\n",
      "VUL_HD2       0.060719\n",
      "VUL_HD3       1.000000\n",
      "Name: coef, dtype: float64\n"
     ]
    }
   ],
   "source": [
    "# Get the list of coefficients attributed to each explanatory variables\n",
    "\n",
    "modele_logit = LogisticRegression(penalty='none',solver='newton-cg')\n",
    "modele_logit.fit(x,y)\n",
    "\n",
    "result = pd.DataFrame(np.concatenate([modele_logit.intercept_.reshape(-1,1),\n",
    "                             modele_logit.coef_],axis=1),\n",
    "                      index = [\"coef\"],\n",
    "                      columns = [\"constante\"]+list(x.columns)).T\n",
    "#print(result)\n",
    "\n",
    "# Get OddRatio\n",
    "import math\n",
    "OddRatio=np.exp(result['coef'])\n",
    "print(OddRatio)"
   ]
  },
  {
   "cell_type": "code",
   "execution_count": 54,
   "metadata": {},
   "outputs": [],
   "source": [
    "## Pour avoir une DF pour R et STATSMODELS\n",
    "dfy = y.to_frame(name='COMPLICATION')\n",
    "data = pd.merge(x, dfy, left_index=True, right_index=True)\n",
    "data.to_csv('datapourR.csv', sep=';', encoding='utf-8')"
   ]
  },
  {
   "cell_type": "markdown",
   "metadata": {},
   "source": [
    "## STATSMODELS"
   ]
  },
  {
   "cell_type": "code",
   "execution_count": 55,
   "metadata": {},
   "outputs": [],
   "source": [
    "#Packages\n",
    "import statsmodels.api as sm\n",
    "from statsmodels.regression.linear_model import WLS\n",
    "from statsmodels.genmod.generalized_linear_model import GLM\n",
    "\n",
    "#from matplotlib import pyplot as plt"
   ]
  },
  {
   "cell_type": "code",
   "execution_count": 56,
   "metadata": {},
   "outputs": [
    {
     "name": "stdout",
     "output_type": "stream",
     "text": [
      "RISK_CAT1    0.078620\n",
      "RISK_CAT2    0.463776\n",
      "RISK_CAT3    0.240260\n",
      "RISK_CAT4    0.334701\n",
      "RISK_CAT5    0.247678\n",
      "RISK_CAT6    0.164942\n",
      "VUL_HD       0.359987\n",
      "IR           0.359070\n",
      "VU           0.326466\n",
      "COAG_DIS     0.285959\n",
      "VUL_HD0      0.357387\n",
      "VUL_HD1      0.356709\n",
      "VUL_HD2      0.026279\n",
      "VUL_HD3      0.000000\n",
      "dtype: float64\n"
     ]
    }
   ],
   "source": [
    "# Data\n",
    "mydata = data\n",
    "\n",
    "# Format data\n",
    "mydata = mydata.astype(int)\n",
    "x = mydata[['RISK_CAT1', 'RISK_CAT2', 'RISK_CAT3', 'RISK_CAT4',\n",
    "       'RISK_CAT5', 'RISK_CAT6', 'VUL_HD', 'IR', 'VU', 'COAG_DIS', 'VUL_HD0', \n",
    "       'VUL_HD1', 'VUL_HD2', 'VUL_HD3']]\n",
    "\n",
    "# Check that every variable is usefull\n",
    "print(x.std())"
   ]
  },
  {
   "cell_type": "code",
   "execution_count": 57,
   "metadata": {},
   "outputs": [],
   "source": [
    "# remove VUL_HD3 which is = 0\n",
    "x = mydata[['RISK_CAT1', 'RISK_CAT2', 'RISK_CAT3', 'RISK_CAT4',\n",
    "       'RISK_CAT5', 'RISK_CAT6', 'VUL_HD', 'IR', 'VU', 'COAG_DIS', 'VUL_HD0', \n",
    "       'VUL_HD1', 'VUL_HD2']]"
   ]
  },
  {
   "cell_type": "code",
   "execution_count": 58,
   "metadata": {},
   "outputs": [
    {
     "name": "stdout",
     "output_type": "stream",
     "text": [
      "Warning: Maximum number of iterations has been exceeded.\n",
      "         Current function value: 0.228883\n",
      "         Iterations: 35\n"
     ]
    },
    {
     "name": "stderr",
     "output_type": "stream",
     "text": [
      "/home/sophie/.local/lib/python3.8/site-packages/statsmodels/base/model.py:566: ConvergenceWarning: Maximum Likelihood optimization failed to converge. Check mle_retvals\n",
      "  warnings.warn(\"Maximum Likelihood optimization failed to \"\n"
     ]
    },
    {
     "data": {
      "text/html": [
       "<table class=\"simpletable\">\n",
       "<caption>Logit Regression Results</caption>\n",
       "<tr>\n",
       "  <th>Dep. Variable:</th>           <td>y</td>        <th>  No. Observations:  </th>  <td>  2895</td>  \n",
       "</tr>\n",
       "<tr>\n",
       "  <th>Model:</th>                 <td>Logit</td>      <th>  Df Residuals:      </th>  <td>  2883</td>  \n",
       "</tr>\n",
       "<tr>\n",
       "  <th>Method:</th>                 <td>MLE</td>       <th>  Df Model:          </th>  <td>    11</td>  \n",
       "</tr>\n",
       "<tr>\n",
       "  <th>Date:</th>            <td>Fri, 13 Aug 2021</td> <th>  Pseudo R-squ.:     </th>  <td>0.05133</td> \n",
       "</tr>\n",
       "<tr>\n",
       "  <th>Time:</th>                <td>13:47:36</td>     <th>  Log-Likelihood:    </th> <td> -662.62</td> \n",
       "</tr>\n",
       "<tr>\n",
       "  <th>converged:</th>             <td>False</td>      <th>  LL-Null:           </th> <td> -698.47</td> \n",
       "</tr>\n",
       "<tr>\n",
       "  <th>Covariance Type:</th>     <td>nonrobust</td>    <th>  LLR p-value:       </th> <td>5.772e-11</td>\n",
       "</tr>\n",
       "</table>\n",
       "<table class=\"simpletable\">\n",
       "<tr>\n",
       "      <td></td>         <th>coef</th>     <th>std err</th>      <th>z</th>      <th>P>|z|</th>  <th>[0.025</th>    <th>0.975]</th>  \n",
       "</tr>\n",
       "<tr>\n",
       "  <th>const</th>     <td>   -1.2942</td> <td> 2.22e+06</td> <td>-5.84e-07</td> <td> 1.000</td> <td>-4.35e+06</td> <td> 4.35e+06</td>\n",
       "</tr>\n",
       "<tr>\n",
       "  <th>RISK_CAT1</th> <td>    0.7355</td> <td>    0.680</td> <td>    1.081</td> <td> 0.280</td> <td>   -0.598</td> <td>    2.069</td>\n",
       "</tr>\n",
       "<tr>\n",
       "  <th>RISK_CAT2</th> <td>   -0.8998</td> <td>    0.383</td> <td>   -2.347</td> <td> 0.019</td> <td>   -1.651</td> <td>   -0.148</td>\n",
       "</tr>\n",
       "<tr>\n",
       "  <th>RISK_CAT3</th> <td>   -0.1934</td> <td>    0.448</td> <td>   -0.432</td> <td> 0.666</td> <td>   -1.071</td> <td>    0.684</td>\n",
       "</tr>\n",
       "<tr>\n",
       "  <th>RISK_CAT4</th> <td>   -0.3971</td> <td>    0.411</td> <td>   -0.967</td> <td> 0.334</td> <td>   -1.202</td> <td>    0.408</td>\n",
       "</tr>\n",
       "<tr>\n",
       "  <th>RISK_CAT5</th> <td>   -0.7156</td> <td>    0.481</td> <td>   -1.488</td> <td> 0.137</td> <td>   -1.658</td> <td>    0.227</td>\n",
       "</tr>\n",
       "<tr>\n",
       "  <th>RISK_CAT6</th> <td>   -0.3265</td> <td>    0.527</td> <td>   -0.619</td> <td> 0.536</td> <td>   -1.360</td> <td>    0.707</td>\n",
       "</tr>\n",
       "<tr>\n",
       "  <th>VUL_HD</th>    <td>   -6.3527</td> <td> 1.41e+07</td> <td>-4.52e-07</td> <td> 1.000</td> <td>-2.76e+07</td> <td> 2.76e+07</td>\n",
       "</tr>\n",
       "<tr>\n",
       "  <th>IR</th>        <td>    0.2452</td> <td>    0.192</td> <td>    1.275</td> <td> 0.202</td> <td>   -0.132</td> <td>    0.622</td>\n",
       "</tr>\n",
       "<tr>\n",
       "  <th>VU</th>        <td>    0.6379</td> <td>    0.196</td> <td>    3.250</td> <td> 0.001</td> <td>    0.253</td> <td>    1.023</td>\n",
       "</tr>\n",
       "<tr>\n",
       "  <th>COAG_DIS</th>  <td>    0.7461</td> <td>    0.206</td> <td>    3.621</td> <td> 0.000</td> <td>    0.342</td> <td>    1.150</td>\n",
       "</tr>\n",
       "<tr>\n",
       "  <th>VUL_HD0</th>   <td>   -1.0389</td> <td> 2.22e+06</td> <td>-4.69e-07</td> <td> 1.000</td> <td>-4.35e+06</td> <td> 4.35e+06</td>\n",
       "</tr>\n",
       "<tr>\n",
       "  <th>VUL_HD1</th>   <td>    5.8421</td> <td> 1.42e+07</td> <td> 4.11e-07</td> <td> 1.000</td> <td>-2.79e+07</td> <td> 2.79e+07</td>\n",
       "</tr>\n",
       "<tr>\n",
       "  <th>VUL_HD2</th>   <td>   -6.0974</td> <td> 2.82e+07</td> <td>-2.16e-07</td> <td> 1.000</td> <td>-5.53e+07</td> <td> 5.53e+07</td>\n",
       "</tr>\n",
       "</table>"
      ],
      "text/plain": [
       "<class 'statsmodels.iolib.summary.Summary'>\n",
       "\"\"\"\n",
       "                           Logit Regression Results                           \n",
       "==============================================================================\n",
       "Dep. Variable:                      y   No. Observations:                 2895\n",
       "Model:                          Logit   Df Residuals:                     2883\n",
       "Method:                           MLE   Df Model:                           11\n",
       "Date:                Fri, 13 Aug 2021   Pseudo R-squ.:                 0.05133\n",
       "Time:                        13:47:36   Log-Likelihood:                -662.62\n",
       "converged:                      False   LL-Null:                       -698.47\n",
       "Covariance Type:            nonrobust   LLR p-value:                 5.772e-11\n",
       "==============================================================================\n",
       "                 coef    std err          z      P>|z|      [0.025      0.975]\n",
       "------------------------------------------------------------------------------\n",
       "const         -1.2942   2.22e+06  -5.84e-07      1.000   -4.35e+06    4.35e+06\n",
       "RISK_CAT1      0.7355      0.680      1.081      0.280      -0.598       2.069\n",
       "RISK_CAT2     -0.8998      0.383     -2.347      0.019      -1.651      -0.148\n",
       "RISK_CAT3     -0.1934      0.448     -0.432      0.666      -1.071       0.684\n",
       "RISK_CAT4     -0.3971      0.411     -0.967      0.334      -1.202       0.408\n",
       "RISK_CAT5     -0.7156      0.481     -1.488      0.137      -1.658       0.227\n",
       "RISK_CAT6     -0.3265      0.527     -0.619      0.536      -1.360       0.707\n",
       "VUL_HD        -6.3527   1.41e+07  -4.52e-07      1.000   -2.76e+07    2.76e+07\n",
       "IR             0.2452      0.192      1.275      0.202      -0.132       0.622\n",
       "VU             0.6379      0.196      3.250      0.001       0.253       1.023\n",
       "COAG_DIS       0.7461      0.206      3.621      0.000       0.342       1.150\n",
       "VUL_HD0       -1.0389   2.22e+06  -4.69e-07      1.000   -4.35e+06    4.35e+06\n",
       "VUL_HD1        5.8421   1.42e+07   4.11e-07      1.000   -2.79e+07    2.79e+07\n",
       "VUL_HD2       -6.0974   2.82e+07  -2.16e-07      1.000   -5.53e+07    5.53e+07\n",
       "==============================================================================\n",
       "\"\"\""
      ]
     },
     "execution_count": 58,
     "metadata": {},
     "output_type": "execute_result"
    }
   ],
   "source": [
    "y = mydata[['COMPLICATION']]\n",
    "y = y.astype(\"category\")\n",
    "y = y['COMPLICATION'].cat.codes\n",
    "\n",
    "x_stat = sm.add_constant(x)\n",
    "\n",
    "model = sm.Logit(y, x_stat)\n",
    "result = model.fit()\n",
    "\n",
    "result.summary()"
   ]
  },
  {
   "cell_type": "code",
   "execution_count": 59,
   "metadata": {},
   "outputs": [],
   "source": [
    "#np.exp(result.params)"
   ]
  },
  {
   "cell_type": "code",
   "execution_count": 60,
   "metadata": {},
   "outputs": [],
   "source": [
    "params = result.params\n",
    "conf = result.conf_int()\n",
    "conf['Odds Ratio'] = params\n",
    "conf.columns = ['5%', '95%', 'Odds Ratio']\n",
    "#print(np.exp(conf))\n",
    "res_sum = np.exp(conf)"
   ]
  },
  {
   "cell_type": "code",
   "execution_count": 61,
   "metadata": {},
   "outputs": [
    {
     "data": {
      "text/html": [
       "<div>\n",
       "<style scoped>\n",
       "    .dataframe tbody tr th:only-of-type {\n",
       "        vertical-align: middle;\n",
       "    }\n",
       "\n",
       "    .dataframe tbody tr th {\n",
       "        vertical-align: top;\n",
       "    }\n",
       "\n",
       "    .dataframe thead th {\n",
       "        text-align: right;\n",
       "    }\n",
       "</style>\n",
       "<table border=\"1\" class=\"dataframe\">\n",
       "  <thead>\n",
       "    <tr style=\"text-align: right;\">\n",
       "      <th></th>\n",
       "      <th>5%</th>\n",
       "      <th>95%</th>\n",
       "      <th>Odds Ratio</th>\n",
       "    </tr>\n",
       "  </thead>\n",
       "  <tbody>\n",
       "    <tr>\n",
       "      <th>const</th>\n",
       "      <td>0.000000</td>\n",
       "      <td>inf</td>\n",
       "      <td>0.274113</td>\n",
       "    </tr>\n",
       "    <tr>\n",
       "      <th>RISK_CAT1</th>\n",
       "      <td>0.550060</td>\n",
       "      <td>7.914432</td>\n",
       "      <td>2.086484</td>\n",
       "    </tr>\n",
       "    <tr>\n",
       "      <th>RISK_CAT2</th>\n",
       "      <td>0.191816</td>\n",
       "      <td>0.862161</td>\n",
       "      <td>0.406665</td>\n",
       "    </tr>\n",
       "    <tr>\n",
       "      <th>RISK_CAT3</th>\n",
       "      <td>0.342773</td>\n",
       "      <td>1.981685</td>\n",
       "      <td>0.824177</td>\n",
       "    </tr>\n",
       "    <tr>\n",
       "      <th>RISK_CAT4</th>\n",
       "      <td>0.300529</td>\n",
       "      <td>1.503968</td>\n",
       "      <td>0.672299</td>\n",
       "    </tr>\n",
       "    <tr>\n",
       "      <th>RISK_CAT5</th>\n",
       "      <td>0.190453</td>\n",
       "      <td>1.254987</td>\n",
       "      <td>0.488892</td>\n",
       "    </tr>\n",
       "    <tr>\n",
       "      <th>RISK_CAT6</th>\n",
       "      <td>0.256757</td>\n",
       "      <td>2.027172</td>\n",
       "      <td>0.721451</td>\n",
       "    </tr>\n",
       "    <tr>\n",
       "      <th>VUL_HD</th>\n",
       "      <td>0.000000</td>\n",
       "      <td>inf</td>\n",
       "      <td>0.001742</td>\n",
       "    </tr>\n",
       "    <tr>\n",
       "      <th>IR</th>\n",
       "      <td>0.876715</td>\n",
       "      <td>1.862493</td>\n",
       "      <td>1.277840</td>\n",
       "    </tr>\n",
       "    <tr>\n",
       "      <th>VU</th>\n",
       "      <td>1.288119</td>\n",
       "      <td>2.780429</td>\n",
       "      <td>1.892491</td>\n",
       "    </tr>\n",
       "    <tr>\n",
       "      <th>COAG_DIS</th>\n",
       "      <td>1.408149</td>\n",
       "      <td>3.158167</td>\n",
       "      <td>2.108832</td>\n",
       "    </tr>\n",
       "    <tr>\n",
       "      <th>VUL_HD0</th>\n",
       "      <td>0.000000</td>\n",
       "      <td>inf</td>\n",
       "      <td>0.353841</td>\n",
       "    </tr>\n",
       "    <tr>\n",
       "      <th>VUL_HD1</th>\n",
       "      <td>0.000000</td>\n",
       "      <td>inf</td>\n",
       "      <td>344.507328</td>\n",
       "    </tr>\n",
       "    <tr>\n",
       "      <th>VUL_HD2</th>\n",
       "      <td>0.000000</td>\n",
       "      <td>inf</td>\n",
       "      <td>0.002249</td>\n",
       "    </tr>\n",
       "  </tbody>\n",
       "</table>\n",
       "</div>"
      ],
      "text/plain": [
       "                 5%       95%  Odds Ratio\n",
       "const      0.000000       inf    0.274113\n",
       "RISK_CAT1  0.550060  7.914432    2.086484\n",
       "RISK_CAT2  0.191816  0.862161    0.406665\n",
       "RISK_CAT3  0.342773  1.981685    0.824177\n",
       "RISK_CAT4  0.300529  1.503968    0.672299\n",
       "RISK_CAT5  0.190453  1.254987    0.488892\n",
       "RISK_CAT6  0.256757  2.027172    0.721451\n",
       "VUL_HD     0.000000       inf    0.001742\n",
       "IR         0.876715  1.862493    1.277840\n",
       "VU         1.288119  2.780429    1.892491\n",
       "COAG_DIS   1.408149  3.158167    2.108832\n",
       "VUL_HD0    0.000000       inf    0.353841\n",
       "VUL_HD1    0.000000       inf  344.507328\n",
       "VUL_HD2    0.000000       inf    0.002249"
      ]
     },
     "execution_count": 61,
     "metadata": {},
     "output_type": "execute_result"
    }
   ],
   "source": [
    "res_sum"
   ]
  },
  {
   "cell_type": "code",
   "execution_count": 62,
   "metadata": {},
   "outputs": [],
   "source": [
    "res_sum.to_csv('coefficients_statsmodel.csv', sep=';', encoding='utf-8')"
   ]
  },
  {
   "cell_type": "code",
   "execution_count": 63,
   "metadata": {},
   "outputs": [
    {
     "data": {
      "image/png": "[encoded data removed]",
      "text/plain": [
       "<Figure size 1332x756 with 1 Axes>"
      ]
     },
     "metadata": {
      "needs_background": "light"
     },
     "output_type": "display_data"
    }
   ],
   "source": [
    "# Plot forest plot\n",
    "\n",
    "# Confidence intervals\n",
    "int_conf = res_sum['5%']-res_sum['95%']\n",
    "int_conf = int_conf.to_numpy()\n",
    "\n",
    "figure = plt.figure()\n",
    "\n",
    "plt.errorbar(y=range(len(res_sum)),\n",
    "            x=res_sum['Odds Ratio'], \n",
    "            xerr=int_conf,\n",
    "            fmt='o',\n",
    "            capsize=3, markersize=7, mfc=\"darkorange\", mec=\"darkorange\")\n",
    "\n",
    "plt.yticks(range(len(res_sum)), res_sum.index.tolist())\n",
    "\n",
    "plt.xlabel('coef (±95% CI)')\n",
    "\n",
    "figure.set_size_inches(18.5, 10.5)\n",
    "\n",
    "plt.show()\n",
    "\n",
    "# To save plot in pdf file\n",
    "#figure.savefig('forestplot_statmodel.pdf')"
   ]
  },
  {
   "cell_type": "code",
   "execution_count": null,
   "metadata": {},
   "outputs": [],
   "source": []
  },
  {
   "cell_type": "code",
   "execution_count": null,
   "metadata": {},
   "outputs": [],
   "source": []
  }
 ],
 "metadata": {
  "kernelspec": {
   "display_name": "Python 3",
   "language": "python",
   "name": "python3"
  },
  "language_info": {
   "codemirror_mode": {
    "name": "ipython",
    "version": 3
   },
   "file_extension": ".py",
   "mimetype": "text/x-python",
   "name": "python",
   "nbconvert_exporter": "python",
   "pygments_lexer": "ipython3",
   "version": "3.8.10"
  }
 },
 "nbformat": 4,
 "nbformat_minor": 4
}
